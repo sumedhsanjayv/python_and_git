{
 "cells": [
  {
   "cell_type": "code",
   "execution_count": 2,
   "metadata": {},
   "outputs": [],
   "source": [
    "# This problem requires the use of dictionaries.  \n",
    "# Given a string, calculate the number of times each character has appeared in it \n",
    "# and return the 3 most repeated characters in a list.  \n",
    "# eg. For the following input,\n",
    "#        'aabbccdddeeeeeffgggghhiiijjjj'\n",
    "# The output should be [e,g,j]    \n",
    "# As a second output, return the frequency of each of these characters.\n",
    "# For the above input, this would be\n",
    "# {'e': 5, 'g' : 4, 'j': 4}"
   ]
  },
  {
   "cell_type": "code",
   "execution_count": 17,
   "metadata": {},
   "outputs": [
    {
     "name": "stdout",
     "output_type": "stream",
     "text": [
      "Enter letters hereaaaaaaaabbbbbbbccccckskjdirjfiobckbajsvnabvnvdvkifeylwvicbxsmnabc\n",
      "Your string of letters is aaaaaaaabbbbbbbccccckskjdirjfiobckbajsvnabvnvdvkifeylwvicbxsmnabc\n",
      "{'a': 11, 'b': 12, 'c': 8, 'k': 4, 's': 3, 'j': 3, 'd': 2, 'i': 4, 'r': 1, 'f': 2, 'o': 1, 'v': 5, 'n': 3, 'e': 1, 'y': 1, 'l': 1, 'w': 1, 'x': 1, 'm': 1}\n",
      "[('b', 12), ('a', 11), ('c', 8), ('v', 5), ('k', 4), ('i', 4), ('s', 3), ('j', 3), ('n', 3), ('d', 2), ('f', 2), ('r', 1), ('o', 1), ('e', 1), ('y', 1), ('l', 1), ('w', 1), ('x', 1), ('m', 1)]\n",
      "['b', 'a', 'c'] {'b': 12, 'a': 11, 'c': 8}\n"
     ]
    }
   ],
   "source": [
    "def return_3_most_repeated():\n",
    "    ## Write your code here\n",
    "    input_string=input(\"Enter letters here\")\n",
    "    print(\"Your string of letters is\",input_string)\n",
    "    dict_new={}\n",
    "    for c in input_string:\n",
    "        \n",
    "        if c not in dict_new: \n",
    "            dict_new[c]=1\n",
    "        else:\n",
    "            dict_new[c]=dict_new[c]+1\n",
    "            \n",
    "    print(dict_new)\n",
    "    \n",
    "    dict_sorted=sorted(dict_new.items(), key=lambda c: c[1],reverse=True)\n",
    "        \n",
    "        \n",
    "    print (dict_sorted)\n",
    "    \n",
    "    \n",
    "        \n",
    "    list_3_most_repeated = []\n",
    "    dictionary_3_most_repeated = {}\n",
    "        \n",
    "    for num in range (0, 3):\n",
    "        list_3_most_repeated.append(dict_sorted[num][0])\n",
    "        dictionary_3_most_repeated[dict_sorted[num][0]]=dict_sorted[num][1]\n",
    "        \n",
    "    return(list_3_most_repeated, dictionary_3_most_repeated)\n",
    "\n",
    "if __name__ == '__main__':\n",
    "    list_3_most_repeated, dictionary_3_most_repeated = return_3_most_repeated()\n",
    "    print(list_3_most_repeated, dictionary_3_most_repeated)"
   ]
  },
  {
   "cell_type": "code",
   "execution_count": null,
   "metadata": {},
   "outputs": [],
   "source": []
  },
  {
   "cell_type": "code",
   "execution_count": null,
   "metadata": {},
   "outputs": [],
   "source": []
  },
  {
   "cell_type": "code",
   "execution_count": null,
   "metadata": {},
   "outputs": [],
   "source": []
  },
  {
   "cell_type": "code",
   "execution_count": null,
   "metadata": {},
   "outputs": [],
   "source": []
  }
 ],
 "metadata": {
  "kernelspec": {
   "display_name": "Python 3",
   "language": "python",
   "name": "python3"
  },
  "language_info": {
   "codemirror_mode": {
    "name": "ipython",
    "version": 3
   },
   "file_extension": ".py",
   "mimetype": "text/x-python",
   "name": "python",
   "nbconvert_exporter": "python",
   "pygments_lexer": "ipython3",
   "version": "3.7.7"
  }
 },
 "nbformat": 4,
 "nbformat_minor": 4
}
