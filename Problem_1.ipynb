{
 "cells": [
  {
   "cell_type": "markdown",
   "metadata": {},
   "source": [
    "# Problem 1 -\n",
    "***\n",
    "**Write a python script that - <img src=\"P1_formula.jpg\" width=\"240\" height=\"240\" align=\"right\"/>**  \n",
    "1. Says \"Hi\" to the user.   \n",
    "2. Asks the user for his/her **Name (string), age (integer), weight (float)(kgs) and height (integer)(kg)**.   \n",
    "3. Calculates the user's BMI. Formula can be found on the right.  \n",
    "4. Prints **(\"Thank you &lt;Name&gt;, for your input. Your BMI is &lt;Calculated value&gt;.\")**    \n",
    "5. Checks which category his/her BMI is in.     \n",
    "   *{Underweight (<18.0), Normal(18.0 - 24.99), Overweight(>25.0)}* and based on that -  \n",
    "   - suggests him/her to have dietary supplemets to increase weight,  \n",
    "   - congratulate him/her or  \n",
    "   - ask them to start exercising.  \n"
   ]
  },
  {
   "cell_type": "code",
   "execution_count": 5,
   "metadata": {},
   "outputs": [
    {
     "name": "stdout",
     "output_type": "stream",
     "text": [
      "Hi!\n",
      "What is your name? asd\n",
      "What is your age? 56\n",
      "What is your weight in KG? 56\n",
      "What is your height in Meter? 56\n",
      "Calculating your BMI\n",
      ".....\n",
      ".....\n",
      ".....\n",
      ".....\n",
      ".....\n",
      "Thank you asd for your input. Your BMI is 0.02\n",
      "You are underweight, you should really consider dietary supplements to maintain a healthy weight\n"
     ]
    }
   ],
   "source": [
    "\n",
    "def BMI_calculator():\n",
    "    ## Write your function here\n",
    "    \n",
    "    user_name=input(\"What is your name? \")\n",
    "    user_age=int(input(\"What is your age? \"))\n",
    "    user_weight=float(input(\"What is your weight in KG? \"))\n",
    "    user_height=float(input(\"What is your height in Meter? \"))\n",
    "    heightsquare=user_height*user_height\n",
    "    bmi=user_weight/heightsquare\n",
    "    print(\"Calculating your BMI\")\n",
    "    print(\".....\")\n",
    "    print(\".....\")\n",
    "    print(\".....\")\n",
    "    print(\".....\")\n",
    "    print(\".....\")\n",
    "    print(\"Thank you {} for your input. Your BMI is {:.2f}\".format(user_name,bmi) )\n",
    "    if bmi<18.0:\n",
    "        print(\"You are underweight, you should really consider dietary supplements to maintain a healthy weight\")\n",
    "    if bmi>18.0 and bmi<=24.99:\n",
    "            print(\"Congratulations, you are fit!\")\n",
    "    if bmi>24.99:\n",
    "            print(\"You are overweight, please consider exercise.\")\n",
    "    \n",
    "    return(0)\n",
    "\n",
    "if __name__ =='__main__':\n",
    "    print(\"Hi!\")\n",
    "    BMI_calculator()"
   ]
  },
  {
   "cell_type": "code",
   "execution_count": null,
   "metadata": {},
   "outputs": [],
   "source": []
  },
  {
   "cell_type": "code",
   "execution_count": null,
   "metadata": {},
   "outputs": [],
   "source": []
  }
 ],
 "metadata": {
  "kernelspec": {
   "display_name": "Python 3",
   "language": "python",
   "name": "python3"
  },
  "language_info": {
   "codemirror_mode": {
    "name": "ipython",
    "version": 3
   },
   "file_extension": ".py",
   "mimetype": "text/x-python",
   "name": "python",
   "nbconvert_exporter": "python",
   "pygments_lexer": "ipython3",
   "version": "3.7.7"
  }
 },
 "nbformat": 4,
 "nbformat_minor": 4
}
